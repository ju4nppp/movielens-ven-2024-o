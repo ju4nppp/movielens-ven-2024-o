{
 "cells": [
  {
   "cell_type": "code",
   "execution_count": 2,
   "id": "0f5f9502-2240-4399-ab40-8c2e6599a661",
   "metadata": {},
   "outputs": [
    {
     "name": "stdout",
     "output_type": "stream",
     "text": [
      "Collecting pandas\n",
      "  Downloading pandas-2.2.2-cp311-cp311-win_amd64.whl.metadata (19 kB)\n",
      "Collecting numpy>=1.23.2 (from pandas)\n",
      "  Downloading numpy-2.1.0-cp311-cp311-win_amd64.whl.metadata (59 kB)\n",
      "     ---------------------------------------- 0.0/59.7 kB ? eta -:--:--\n",
      "     ------------- ------------------------ 20.5/59.7 kB 640.0 kB/s eta 0:00:01\n",
      "     -------------------------------------- 59.7/59.7 kB 785.8 kB/s eta 0:00:00\n",
      "Requirement already satisfied: python-dateutil>=2.8.2 in c:\\users\\jplv0\\pycharmprojects\\movielens-ven-2024-o\\venv\\lib\\site-packages (from pandas) (2.9.0.post0)\n",
      "Collecting pytz>=2020.1 (from pandas)\n",
      "  Downloading pytz-2024.1-py2.py3-none-any.whl.metadata (22 kB)\n",
      "Collecting tzdata>=2022.7 (from pandas)\n",
      "  Downloading tzdata-2024.1-py2.py3-none-any.whl.metadata (1.4 kB)\n",
      "Requirement already satisfied: six>=1.5 in c:\\users\\jplv0\\pycharmprojects\\movielens-ven-2024-o\\venv\\lib\\site-packages (from python-dateutil>=2.8.2->pandas) (1.16.0)\n",
      "Downloading pandas-2.2.2-cp311-cp311-win_amd64.whl (11.6 MB)\n",
      "   ---------------------------------------- 0.0/11.6 MB ? eta -:--:--\n",
      "   ---------------------------------------- 0.1/11.6 MB 3.5 MB/s eta 0:00:04\n",
      "   - -------------------------------------- 0.4/11.6 MB 5.5 MB/s eta 0:00:03\n",
      "   -- ------------------------------------- 0.7/11.6 MB 6.3 MB/s eta 0:00:02\n",
      "   --- ------------------------------------ 1.0/11.6 MB 8.3 MB/s eta 0:00:02\n",
      "   ----- ---------------------------------- 1.5/11.6 MB 8.7 MB/s eta 0:00:02\n",
      "   -------- ------------------------------- 2.4/11.6 MB 11.0 MB/s eta 0:00:01\n",
      "   --------- ------------------------------ 2.7/11.6 MB 10.6 MB/s eta 0:00:01\n",
      "   ----------- ---------------------------- 3.4/11.6 MB 11.6 MB/s eta 0:00:01\n",
      "   ------------- -------------------------- 3.9/11.6 MB 12.4 MB/s eta 0:00:01\n",
      "   -------------- ------------------------- 4.4/11.6 MB 12.1 MB/s eta 0:00:01\n",
      "   ------------------ --------------------- 5.3/11.6 MB 12.9 MB/s eta 0:00:01\n",
      "   ------------------ --------------------- 5.4/11.6 MB 13.3 MB/s eta 0:00:01\n",
      "   --------------------- ------------------ 6.1/11.6 MB 13.1 MB/s eta 0:00:01\n",
      "   ------------------------ --------------- 7.0/11.6 MB 13.6 MB/s eta 0:00:01\n",
      "   ------------------------ --------------- 7.3/11.6 MB 14.1 MB/s eta 0:00:01\n",
      "   --------------------------- ------------ 8.0/11.6 MB 13.7 MB/s eta 0:00:01\n",
      "   ---------------------------- ----------- 8.3/11.6 MB 13.7 MB/s eta 0:00:01\n",
      "   ------------------------------ --------- 9.0/11.6 MB 13.7 MB/s eta 0:00:01\n",
      "   --------------------------------- ------ 9.6/11.6 MB 14.0 MB/s eta 0:00:01\n",
      "   ---------------------------------- ----- 10.1/11.6 MB 13.8 MB/s eta 0:00:01\n",
      "   ----------------------------------- ---- 10.3/11.6 MB 13.4 MB/s eta 0:00:01\n",
      "   ----------------------------------- ---- 10.4/11.6 MB 13.4 MB/s eta 0:00:01\n",
      "   ------------------------------------ --- 10.7/11.6 MB 13.4 MB/s eta 0:00:01\n",
      "   -------------------------------------- - 11.2/11.6 MB 13.4 MB/s eta 0:00:01\n",
      "   ---------------------------------------  11.6/11.6 MB 13.9 MB/s eta 0:00:01\n",
      "   ---------------------------------------- 11.6/11.6 MB 13.1 MB/s eta 0:00:00\n",
      "Downloading numpy-2.1.0-cp311-cp311-win_amd64.whl (12.9 MB)\n",
      "   ---------------------------------------- 0.0/12.9 MB ? eta -:--:--\n",
      "   - -------------------------------------- 0.5/12.9 MB 15.9 MB/s eta 0:00:01\n",
      "   --- ------------------------------------ 1.0/12.9 MB 16.5 MB/s eta 0:00:01\n",
      "   --- ------------------------------------ 1.2/12.9 MB 10.8 MB/s eta 0:00:02\n",
      "   ---- ----------------------------------- 1.5/12.9 MB 10.8 MB/s eta 0:00:02\n",
      "   ----- ---------------------------------- 1.8/12.9 MB 10.1 MB/s eta 0:00:02\n",
      "   ------ --------------------------------- 2.1/12.9 MB 9.7 MB/s eta 0:00:02\n",
      "   ------- -------------------------------- 2.4/12.9 MB 9.7 MB/s eta 0:00:02\n",
      "   -------- ------------------------------- 2.9/12.9 MB 10.1 MB/s eta 0:00:01\n",
      "   ---------- ----------------------------- 3.3/12.9 MB 10.1 MB/s eta 0:00:01\n",
      "   ----------- ---------------------------- 3.8/12.9 MB 10.0 MB/s eta 0:00:01\n",
      "   ------------- -------------------------- 4.2/12.9 MB 10.8 MB/s eta 0:00:01\n",
      "   ------------- -------------------------- 4.4/12.9 MB 10.1 MB/s eta 0:00:01\n",
      "   --------------- ------------------------ 5.0/12.9 MB 10.6 MB/s eta 0:00:01\n",
      "   ---------------- ----------------------- 5.3/12.9 MB 10.5 MB/s eta 0:00:01\n",
      "   ----------------- ---------------------- 5.7/12.9 MB 10.5 MB/s eta 0:00:01\n",
      "   ------------------- -------------------- 6.2/12.9 MB 10.8 MB/s eta 0:00:01\n",
      "   --------------------- ------------------ 6.8/12.9 MB 11.2 MB/s eta 0:00:01\n",
      "   ---------------------- ----------------- 7.3/12.9 MB 11.1 MB/s eta 0:00:01\n",
      "   ----------------------- ---------------- 7.7/12.9 MB 11.1 MB/s eta 0:00:01\n",
      "   ------------------------- -------------- 8.1/12.9 MB 11.2 MB/s eta 0:00:01\n",
      "   -------------------------- ------------- 8.6/12.9 MB 11.3 MB/s eta 0:00:01\n",
      "   --------------------------- ------------ 9.0/12.9 MB 11.3 MB/s eta 0:00:01\n",
      "   ---------------------------- ----------- 9.3/12.9 MB 11.2 MB/s eta 0:00:01\n",
      "   ----------------------------- ---------- 9.6/12.9 MB 10.9 MB/s eta 0:00:01\n",
      "   ------------------------------- -------- 10.0/12.9 MB 11.1 MB/s eta 0:00:01\n",
      "   -------------------------------- ------- 10.4/12.9 MB 10.9 MB/s eta 0:00:01\n",
      "   --------------------------------- ------ 10.8/12.9 MB 10.9 MB/s eta 0:00:01\n",
      "   ----------------------------------- ---- 11.4/12.9 MB 11.1 MB/s eta 0:00:01\n",
      "   ------------------------------------- -- 11.9/12.9 MB 11.5 MB/s eta 0:00:01\n",
      "   -------------------------------------- - 12.4/12.9 MB 11.7 MB/s eta 0:00:01\n",
      "   ---------------------------------------  12.9/12.9 MB 12.1 MB/s eta 0:00:01\n",
      "   ---------------------------------------- 12.9/12.9 MB 11.5 MB/s eta 0:00:00\n",
      "Downloading pytz-2024.1-py2.py3-none-any.whl (505 kB)\n",
      "   ---------------------------------------- 0.0/505.5 kB ? eta -:--:--\n",
      "   --------------------------------------  501.8/505.5 kB 15.9 MB/s eta 0:00:01\n",
      "   --------------------------------------- 505.5/505.5 kB 10.5 MB/s eta 0:00:00\n",
      "Downloading tzdata-2024.1-py2.py3-none-any.whl (345 kB)\n",
      "   ---------------------------------------- 0.0/345.4 kB ? eta -:--:--\n",
      "   --------------------------------------- 345.4/345.4 kB 22.3 MB/s eta 0:00:00\n",
      "Installing collected packages: pytz, tzdata, numpy, pandas\n",
      "Successfully installed numpy-2.1.0 pandas-2.2.2 pytz-2024.1 tzdata-2024.1\n",
      "Note: you may need to restart the kernel to use updated packages.\n"
     ]
    },
    {
     "name": "stderr",
     "output_type": "stream",
     "text": [
      "\n",
      "[notice] A new release of pip is available: 24.0 -> 24.2\n",
      "[notice] To update, run: python.exe -m pip install --upgrade pip\n"
     ]
    }
   ],
   "source": [
    "pip install pandas"
   ]
  },
  {
   "cell_type": "code",
   "execution_count": 1,
   "id": "43f31d6e-3685-4a9c-a301-c1c9d571d95a",
   "metadata": {},
   "outputs": [],
   "source": [
    "import pandas as pd"
   ]
  },
  {
   "cell_type": "code",
   "execution_count": 3,
   "id": "eef0b492-1374-457d-917b-b02bc4198748",
   "metadata": {},
   "outputs": [],
   "source": [
    "df_ratings = pd.read_csv(\"venv/DATA/ml-latest-small/ratings.csv\")"
   ]
  },
  {
   "cell_type": "code",
   "execution_count": 4,
   "id": "86865436-929e-45dc-b34b-b47bdde5dcb7",
   "metadata": {},
   "outputs": [
    {
     "data": {
      "text/html": [
       "<div>\n",
       "<style scoped>\n",
       "    .dataframe tbody tr th:only-of-type {\n",
       "        vertical-align: middle;\n",
       "    }\n",
       "\n",
       "    .dataframe tbody tr th {\n",
       "        vertical-align: top;\n",
       "    }\n",
       "\n",
       "    .dataframe thead th {\n",
       "        text-align: right;\n",
       "    }\n",
       "</style>\n",
       "<table border=\"1\" class=\"dataframe\">\n",
       "  <thead>\n",
       "    <tr style=\"text-align: right;\">\n",
       "      <th></th>\n",
       "      <th>userId</th>\n",
       "      <th>movieId</th>\n",
       "      <th>rating</th>\n",
       "      <th>timestamp</th>\n",
       "    </tr>\n",
       "  </thead>\n",
       "  <tbody>\n",
       "    <tr>\n",
       "      <th>0</th>\n",
       "      <td>1</td>\n",
       "      <td>1</td>\n",
       "      <td>4.0</td>\n",
       "      <td>964982703</td>\n",
       "    </tr>\n",
       "    <tr>\n",
       "      <th>1</th>\n",
       "      <td>1</td>\n",
       "      <td>3</td>\n",
       "      <td>4.0</td>\n",
       "      <td>964981247</td>\n",
       "    </tr>\n",
       "    <tr>\n",
       "      <th>2</th>\n",
       "      <td>1</td>\n",
       "      <td>6</td>\n",
       "      <td>4.0</td>\n",
       "      <td>964982224</td>\n",
       "    </tr>\n",
       "    <tr>\n",
       "      <th>3</th>\n",
       "      <td>1</td>\n",
       "      <td>47</td>\n",
       "      <td>5.0</td>\n",
       "      <td>964983815</td>\n",
       "    </tr>\n",
       "    <tr>\n",
       "      <th>4</th>\n",
       "      <td>1</td>\n",
       "      <td>50</td>\n",
       "      <td>5.0</td>\n",
       "      <td>964982931</td>\n",
       "    </tr>\n",
       "  </tbody>\n",
       "</table>\n",
       "</div>"
      ],
      "text/plain": [
       "   userId  movieId  rating  timestamp\n",
       "0       1        1     4.0  964982703\n",
       "1       1        3     4.0  964981247\n",
       "2       1        6     4.0  964982224\n",
       "3       1       47     5.0  964983815\n",
       "4       1       50     5.0  964982931"
      ]
     },
     "execution_count": 4,
     "metadata": {},
     "output_type": "execute_result"
    }
   ],
   "source": [
    "df_ratings.head()"
   ]
  }
 ],
 "metadata": {
  "kernelspec": {
   "display_name": "Python 3 (ipykernel)",
   "language": "python",
   "name": "python3"
  },
  "language_info": {
   "codemirror_mode": {
    "name": "ipython",
    "version": 3
   },
   "file_extension": ".py",
   "mimetype": "text/x-python",
   "name": "python",
   "nbconvert_exporter": "python",
   "pygments_lexer": "ipython3",
   "version": "3.11.8"
  }
 },
 "nbformat": 4,
 "nbformat_minor": 5
}
